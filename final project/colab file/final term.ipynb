{
 "cells": [
  {
   "cell_type": "code",
   "execution_count": 17,
   "id": "upper-information",
   "metadata": {},
   "outputs": [],
   "source": [
    "import pymysql\n",
    "\n",
    "import pandas as pd"
   ]
  },
  {
   "cell_type": "code",
   "execution_count": 32,
   "id": "9dd9f6d6",
   "metadata": {},
   "outputs": [],
   "source": [
    "import warnings\n",
    "warnings.filterwarnings('ignore')"
   ]
  },
  {
   "cell_type": "code",
   "execution_count": 54,
   "id": "f998137d",
   "metadata": {},
   "outputs": [],
   "source": [
    "conn = pymysql.connect(host='localhost', port=int(3306), user='root', passwd=passwd, db='mydb')"
   ]
  },
  {
   "cell_type": "code",
   "execution_count": 55,
   "id": "13b4a39f",
   "metadata": {},
   "outputs": [],
   "source": [
    "cursor = conn.cursor(pymysql.cursors.DictCursor)"
   ]
  },
  {
   "cell_type": "code",
   "execution_count": 56,
   "id": "e606f5ad",
   "metadata": {},
   "outputs": [],
   "source": [
    "log_df=pd.read_sql_query(\"SELECT * FROM LogTable \",conn)"
   ]
  },
  {
   "cell_type": "code",
   "execution_count": 57,
   "id": "56b35095",
   "metadata": {
    "scrolled": true
   },
   "outputs": [
    {
     "data": {
      "text/html": [
       "<div>\n",
       "<style scoped>\n",
       "    .dataframe tbody tr th:only-of-type {\n",
       "        vertical-align: middle;\n",
       "    }\n",
       "\n",
       "    .dataframe tbody tr th {\n",
       "        vertical-align: top;\n",
       "    }\n",
       "\n",
       "    .dataframe thead th {\n",
       "        text-align: right;\n",
       "    }\n",
       "</style>\n",
       "<table border=\"1\" class=\"dataframe\">\n",
       "  <thead>\n",
       "    <tr style=\"text-align: right;\">\n",
       "      <th></th>\n",
       "      <th>id</th>\n",
       "      <th>user id</th>\n",
       "      <th>user pwd</th>\n",
       "      <th>login time</th>\n",
       "    </tr>\n",
       "  </thead>\n",
       "  <tbody>\n",
       "    <tr>\n",
       "      <th>0</th>\n",
       "      <td>1</td>\n",
       "      <td>jamesid</td>\n",
       "      <td>1234</td>\n",
       "      <td>2022-12-03-171022</td>\n",
       "    </tr>\n",
       "    <tr>\n",
       "      <th>1</th>\n",
       "      <td>2</td>\n",
       "      <td>davidid</td>\n",
       "      <td>4324</td>\n",
       "      <td>2022-12-03-181022</td>\n",
       "    </tr>\n",
       "    <tr>\n",
       "      <th>2</th>\n",
       "      <td>3</td>\n",
       "      <td>gerogeid</td>\n",
       "      <td>4567</td>\n",
       "      <td>2022-12-03-181125</td>\n",
       "    </tr>\n",
       "  </tbody>\n",
       "</table>\n",
       "</div>"
      ],
      "text/plain": [
       "   id   user id user pwd         login time\n",
       "0   1   jamesid     1234  2022-12-03-171022\n",
       "1   2   davidid     4324  2022-12-03-181022\n",
       "2   3  gerogeid     4567  2022-12-03-181125"
      ]
     },
     "execution_count": 57,
     "metadata": {},
     "output_type": "execute_result"
    }
   ],
   "source": [
    "log_df"
   ]
  },
  {
   "cell_type": "code",
   "execution_count": 58,
   "id": "treated-accident",
   "metadata": {
    "scrolled": true
   },
   "outputs": [],
   "source": [
    "user_df=pd.read_sql_query(\"SELECT * FROM UserTable \",conn)"
   ]
  },
  {
   "cell_type": "code",
   "execution_count": 59,
   "id": "focused-conservation",
   "metadata": {
    "scrolled": true
   },
   "outputs": [
    {
     "data": {
      "text/html": [
       "<div>\n",
       "<style scoped>\n",
       "    .dataframe tbody tr th:only-of-type {\n",
       "        vertical-align: middle;\n",
       "    }\n",
       "\n",
       "    .dataframe tbody tr th {\n",
       "        vertical-align: top;\n",
       "    }\n",
       "\n",
       "    .dataframe thead th {\n",
       "        text-align: right;\n",
       "    }\n",
       "</style>\n",
       "<table border=\"1\" class=\"dataframe\">\n",
       "  <thead>\n",
       "    <tr style=\"text-align: right;\">\n",
       "      <th></th>\n",
       "      <th>id</th>\n",
       "      <th>name</th>\n",
       "      <th>birth</th>\n",
       "      <th>email</th>\n",
       "      <th>passwd</th>\n",
       "      <th>phone_number</th>\n",
       "      <th>sex</th>\n",
       "      <th>age</th>\n",
       "      <th>Log table_id</th>\n",
       "    </tr>\n",
       "  </thead>\n",
       "  <tbody>\n",
       "    <tr>\n",
       "      <th>0</th>\n",
       "      <td>1</td>\n",
       "      <td>james</td>\n",
       "      <td>19970301</td>\n",
       "      <td>james@inha.edu</td>\n",
       "      <td>1234</td>\n",
       "      <td>01044443333</td>\n",
       "      <td>M</td>\n",
       "      <td>26</td>\n",
       "      <td>2</td>\n",
       "    </tr>\n",
       "    <tr>\n",
       "      <th>1</th>\n",
       "      <td>2</td>\n",
       "      <td>david</td>\n",
       "      <td>19780301</td>\n",
       "      <td>david@inha.edu</td>\n",
       "      <td>4567</td>\n",
       "      <td>01055553433</td>\n",
       "      <td>M</td>\n",
       "      <td>45</td>\n",
       "      <td>3</td>\n",
       "    </tr>\n",
       "    <tr>\n",
       "      <th>2</th>\n",
       "      <td>3</td>\n",
       "      <td>george</td>\n",
       "      <td>19870308</td>\n",
       "      <td>george@inha.edu</td>\n",
       "      <td>4324</td>\n",
       "      <td>01044443333</td>\n",
       "      <td>M</td>\n",
       "      <td>36</td>\n",
       "      <td>1</td>\n",
       "    </tr>\n",
       "  </tbody>\n",
       "</table>\n",
       "</div>"
      ],
      "text/plain": [
       "   id    name     birth            email passwd phone_number sex age  \\\n",
       "0   1   james  19970301   james@inha.edu   1234  01044443333   M  26   \n",
       "1   2   david  19780301   david@inha.edu   4567  01055553433   M  45   \n",
       "2   3  george  19870308  george@inha.edu   4324  01044443333   M  36   \n",
       "\n",
       "   Log table_id  \n",
       "0             2  \n",
       "1             3  \n",
       "2             1  "
      ]
     },
     "execution_count": 59,
     "metadata": {},
     "output_type": "execute_result"
    }
   ],
   "source": [
    "user_df"
   ]
  },
  {
   "cell_type": "code",
   "execution_count": 37,
   "id": "herbal-cancellation",
   "metadata": {
    "scrolled": false
   },
   "outputs": [],
   "source": [
    "Admin_df=pd.read_sql_query(\"SELECT * FROM ADMIN \",conn)"
   ]
  },
  {
   "cell_type": "code",
   "execution_count": 38,
   "id": "third-breath",
   "metadata": {
    "scrolled": true
   },
   "outputs": [
    {
     "data": {
      "text/html": [
       "<div>\n",
       "<style scoped>\n",
       "    .dataframe tbody tr th:only-of-type {\n",
       "        vertical-align: middle;\n",
       "    }\n",
       "\n",
       "    .dataframe tbody tr th {\n",
       "        vertical-align: top;\n",
       "    }\n",
       "\n",
       "    .dataframe thead th {\n",
       "        text-align: right;\n",
       "    }\n",
       "</style>\n",
       "<table border=\"1\" class=\"dataframe\">\n",
       "  <thead>\n",
       "    <tr style=\"text-align: right;\">\n",
       "      <th></th>\n",
       "      <th>User table_id</th>\n",
       "      <th>posistion</th>\n",
       "      <th>permission</th>\n",
       "      <th>company</th>\n",
       "      <th>Error_id</th>\n",
       "      <th>Task change log_id</th>\n",
       "      <th>DB setting Table_id</th>\n",
       "    </tr>\n",
       "  </thead>\n",
       "  <tbody>\n",
       "    <tr>\n",
       "      <th>0</th>\n",
       "      <td>1</td>\n",
       "      <td>CTO</td>\n",
       "      <td>Write</td>\n",
       "      <td>NAVER</td>\n",
       "      <td>1</td>\n",
       "      <td>1</td>\n",
       "      <td>1</td>\n",
       "    </tr>\n",
       "  </tbody>\n",
       "</table>\n",
       "</div>"
      ],
      "text/plain": [
       "   User table_id posistion permission company  Error_id  Task change log_id  \\\n",
       "0              1       CTO      Write   NAVER         1                   1   \n",
       "\n",
       "   DB setting Table_id  \n",
       "0                    1  "
      ]
     },
     "execution_count": 38,
     "metadata": {},
     "output_type": "execute_result"
    }
   ],
   "source": [
    "Admin_df"
   ]
  },
  {
   "cell_type": "code",
   "execution_count": 39,
   "id": "placed-chicken",
   "metadata": {},
   "outputs": [],
   "source": [
    "TaskChangeLog_df=pd.read_sql_query(\"SELECT * FROM TaskChangeLog \",conn)"
   ]
  },
  {
   "cell_type": "code",
   "execution_count": 40,
   "id": "eleven-albuquerque",
   "metadata": {
    "scrolled": false
   },
   "outputs": [
    {
     "data": {
      "text/html": [
       "<div>\n",
       "<style scoped>\n",
       "    .dataframe tbody tr th:only-of-type {\n",
       "        vertical-align: middle;\n",
       "    }\n",
       "\n",
       "    .dataframe tbody tr th {\n",
       "        vertical-align: top;\n",
       "    }\n",
       "\n",
       "    .dataframe thead th {\n",
       "        text-align: right;\n",
       "    }\n",
       "</style>\n",
       "<table border=\"1\" class=\"dataframe\">\n",
       "  <thead>\n",
       "    <tr style=\"text-align: right;\">\n",
       "      <th></th>\n",
       "      <th>id</th>\n",
       "      <th>task name</th>\n",
       "      <th>request date</th>\n",
       "      <th>acceptance</th>\n",
       "      <th>deployment</th>\n",
       "      <th>deploy date</th>\n",
       "    </tr>\n",
       "  </thead>\n",
       "  <tbody>\n",
       "    <tr>\n",
       "      <th>0</th>\n",
       "      <td>1</td>\n",
       "      <td>george</td>\n",
       "      <td>20220809</td>\n",
       "      <td>george</td>\n",
       "      <td>george</td>\n",
       "      <td>20220813</td>\n",
       "    </tr>\n",
       "  </tbody>\n",
       "</table>\n",
       "</div>"
      ],
      "text/plain": [
       "   id task name request date acceptance deployment deploy date\n",
       "0   1    george     20220809     george     george    20220813"
      ]
     },
     "execution_count": 40,
     "metadata": {},
     "output_type": "execute_result"
    }
   ],
   "source": [
    "TaskChangeLog_df"
   ]
  },
  {
   "cell_type": "code",
   "execution_count": 41,
   "id": "broad-surfing",
   "metadata": {},
   "outputs": [],
   "source": [
    "Error_df=pd.read_sql_query(\"SELECT * FROM ErrorTable \",conn)"
   ]
  },
  {
   "cell_type": "code",
   "execution_count": 42,
   "id": "returning-money",
   "metadata": {
    "scrolled": false
   },
   "outputs": [
    {
     "data": {
      "text/html": [
       "<div>\n",
       "<style scoped>\n",
       "    .dataframe tbody tr th:only-of-type {\n",
       "        vertical-align: middle;\n",
       "    }\n",
       "\n",
       "    .dataframe tbody tr th {\n",
       "        vertical-align: top;\n",
       "    }\n",
       "\n",
       "    .dataframe thead th {\n",
       "        text-align: right;\n",
       "    }\n",
       "</style>\n",
       "<table border=\"1\" class=\"dataframe\">\n",
       "  <thead>\n",
       "    <tr style=\"text-align: right;\">\n",
       "      <th></th>\n",
       "      <th>id</th>\n",
       "      <th>Error date</th>\n",
       "      <th>fix date</th>\n",
       "      <th>engineer</th>\n",
       "      <th>error report</th>\n",
       "    </tr>\n",
       "  </thead>\n",
       "  <tbody>\n",
       "    <tr>\n",
       "      <th>0</th>\n",
       "      <td>1</td>\n",
       "      <td>20220811</td>\n",
       "      <td>20220813</td>\n",
       "      <td>george</td>\n",
       "      <td>True</td>\n",
       "    </tr>\n",
       "  </tbody>\n",
       "</table>\n",
       "</div>"
      ],
      "text/plain": [
       "   id Error date  fix date engineer error report\n",
       "0   1   20220811  20220813   george         True"
      ]
     },
     "execution_count": 42,
     "metadata": {},
     "output_type": "execute_result"
    }
   ],
   "source": [
    "Error_df"
   ]
  },
  {
   "cell_type": "code",
   "execution_count": 43,
   "id": "hungarian-disaster",
   "metadata": {},
   "outputs": [],
   "source": [
    "dbset_df=pd.read_sql_query(\"SELECT * FROM DBSettingTable\",conn)"
   ]
  },
  {
   "cell_type": "code",
   "execution_count": 44,
   "id": "impressive-repair",
   "metadata": {
    "scrolled": true
   },
   "outputs": [
    {
     "data": {
      "text/html": [
       "<div>\n",
       "<style scoped>\n",
       "    .dataframe tbody tr th:only-of-type {\n",
       "        vertical-align: middle;\n",
       "    }\n",
       "\n",
       "    .dataframe tbody tr th {\n",
       "        vertical-align: top;\n",
       "    }\n",
       "\n",
       "    .dataframe thead th {\n",
       "        text-align: right;\n",
       "    }\n",
       "</style>\n",
       "<table border=\"1\" class=\"dataframe\">\n",
       "  <thead>\n",
       "    <tr style=\"text-align: right;\">\n",
       "      <th></th>\n",
       "      <th>id</th>\n",
       "      <th>device</th>\n",
       "      <th>ip address</th>\n",
       "      <th>os</th>\n",
       "      <th>register date</th>\n",
       "    </tr>\n",
       "  </thead>\n",
       "  <tbody>\n",
       "    <tr>\n",
       "      <th>0</th>\n",
       "      <td>1</td>\n",
       "      <td>samsung</td>\n",
       "      <td>1278080</td>\n",
       "      <td>Window</td>\n",
       "      <td>20220711</td>\n",
       "    </tr>\n",
       "  </tbody>\n",
       "</table>\n",
       "</div>"
      ],
      "text/plain": [
       "   id   device ip address      os register date\n",
       "0   1  samsung    1278080  Window      20220711"
      ]
     },
     "execution_count": 44,
     "metadata": {},
     "output_type": "execute_result"
    }
   ],
   "source": [
    "dbset_df"
   ]
  },
  {
   "cell_type": "code",
   "execution_count": 45,
   "id": "general-blanket",
   "metadata": {},
   "outputs": [],
   "source": [
    "customer_df = pd.read_sql_query(\"SELECT * FROM Customer\",conn)"
   ]
  },
  {
   "cell_type": "code",
   "execution_count": 46,
   "id": "postal-rebound",
   "metadata": {
    "scrolled": true
   },
   "outputs": [
    {
     "data": {
      "text/html": [
       "<div>\n",
       "<style scoped>\n",
       "    .dataframe tbody tr th:only-of-type {\n",
       "        vertical-align: middle;\n",
       "    }\n",
       "\n",
       "    .dataframe tbody tr th {\n",
       "        vertical-align: top;\n",
       "    }\n",
       "\n",
       "    .dataframe thead th {\n",
       "        text-align: right;\n",
       "    }\n",
       "</style>\n",
       "<table border=\"1\" class=\"dataframe\">\n",
       "  <thead>\n",
       "    <tr style=\"text-align: right;\">\n",
       "      <th></th>\n",
       "      <th>User table_id</th>\n",
       "      <th>Validate</th>\n",
       "      <th>permission</th>\n",
       "      <th>login path</th>\n",
       "      <th>validate path</th>\n",
       "    </tr>\n",
       "  </thead>\n",
       "  <tbody>\n",
       "    <tr>\n",
       "      <th>0</th>\n",
       "      <td>2</td>\n",
       "      <td>True</td>\n",
       "      <td>Read</td>\n",
       "      <td>NAVER</td>\n",
       "      <td>SKT</td>\n",
       "    </tr>\n",
       "  </tbody>\n",
       "</table>\n",
       "</div>"
      ],
      "text/plain": [
       "   User table_id Validate permission login path validate path\n",
       "0              2     True       Read      NAVER           SKT"
      ]
     },
     "execution_count": 46,
     "metadata": {},
     "output_type": "execute_result"
    }
   ],
   "source": [
    "customer_df"
   ]
  },
  {
   "cell_type": "code",
   "execution_count": 47,
   "id": "hearing-airport",
   "metadata": {},
   "outputs": [],
   "source": [
    "reserve_df = pd.read_sql_query(\"SELECT * FROM Reservation\",conn)"
   ]
  },
  {
   "cell_type": "code",
   "execution_count": 48,
   "id": "c158b785",
   "metadata": {
    "scrolled": false
   },
   "outputs": [
    {
     "data": {
      "text/html": [
       "<div>\n",
       "<style scoped>\n",
       "    .dataframe tbody tr th:only-of-type {\n",
       "        vertical-align: middle;\n",
       "    }\n",
       "\n",
       "    .dataframe tbody tr th {\n",
       "        vertical-align: top;\n",
       "    }\n",
       "\n",
       "    .dataframe thead th {\n",
       "        text-align: right;\n",
       "    }\n",
       "</style>\n",
       "<table border=\"1\" class=\"dataframe\">\n",
       "  <thead>\n",
       "    <tr style=\"text-align: right;\">\n",
       "      <th></th>\n",
       "      <th>reservation id</th>\n",
       "      <th>seat number</th>\n",
       "      <th>price</th>\n",
       "      <th>User table_id</th>\n",
       "      <th>Event table_id</th>\n",
       "      <th>Seat table_id</th>\n",
       "      <th>Artist table_id</th>\n",
       "    </tr>\n",
       "  </thead>\n",
       "  <tbody>\n",
       "    <tr>\n",
       "      <th>0</th>\n",
       "      <td>1</td>\n",
       "      <td>31</td>\n",
       "      <td>30000</td>\n",
       "      <td>1</td>\n",
       "      <td>1</td>\n",
       "      <td>1</td>\n",
       "      <td>1</td>\n",
       "    </tr>\n",
       "  </tbody>\n",
       "</table>\n",
       "</div>"
      ],
      "text/plain": [
       "   reservation id seat number  price  User table_id  Event table_id  \\\n",
       "0               1          31  30000              1               1   \n",
       "\n",
       "   Seat table_id  Artist table_id  \n",
       "0              1                1  "
      ]
     },
     "execution_count": 48,
     "metadata": {},
     "output_type": "execute_result"
    }
   ],
   "source": [
    "reserve_df"
   ]
  },
  {
   "cell_type": "code",
   "execution_count": 60,
   "id": "fifty-mission",
   "metadata": {},
   "outputs": [],
   "source": [
    "Event_df = pd.read_sql_query(\"SELECT * FROM EventTable\",conn)"
   ]
  },
  {
   "cell_type": "code",
   "execution_count": 61,
   "id": "lyric-playlist",
   "metadata": {},
   "outputs": [
    {
     "data": {
      "text/html": [
       "<div>\n",
       "<style scoped>\n",
       "    .dataframe tbody tr th:only-of-type {\n",
       "        vertical-align: middle;\n",
       "    }\n",
       "\n",
       "    .dataframe tbody tr th {\n",
       "        vertical-align: top;\n",
       "    }\n",
       "\n",
       "    .dataframe thead th {\n",
       "        text-align: right;\n",
       "    }\n",
       "</style>\n",
       "<table border=\"1\" class=\"dataframe\">\n",
       "  <thead>\n",
       "    <tr style=\"text-align: right;\">\n",
       "      <th></th>\n",
       "      <th>id</th>\n",
       "      <th>concert name</th>\n",
       "      <th>genre</th>\n",
       "      <th>rate</th>\n",
       "      <th>start time</th>\n",
       "      <th>end time</th>\n",
       "      <th>date</th>\n",
       "      <th>Artist table_id</th>\n",
       "      <th>Concert hall address</th>\n",
       "      <th>Concert hall max</th>\n",
       "    </tr>\n",
       "  </thead>\n",
       "  <tbody>\n",
       "    <tr>\n",
       "      <th>0</th>\n",
       "      <td>1</td>\n",
       "      <td>davich concert</td>\n",
       "      <td>BALAD</td>\n",
       "      <td>ALL</td>\n",
       "      <td>20:00</td>\n",
       "      <td>21:00</td>\n",
       "      <td>20221231</td>\n",
       "      <td>1</td>\n",
       "      <td>88-2 Bangi-dong, Songpa-gu, Seoul</td>\n",
       "      <td>1000</td>\n",
       "    </tr>\n",
       "    <tr>\n",
       "      <th>1</th>\n",
       "      <td>1</td>\n",
       "      <td>davich concert</td>\n",
       "      <td>BALAD</td>\n",
       "      <td>ALL</td>\n",
       "      <td>20:00</td>\n",
       "      <td>21:00</td>\n",
       "      <td>20221231</td>\n",
       "      <td>2</td>\n",
       "      <td>88-2 Bangi-dong, Songpa-gu, Seoul</td>\n",
       "      <td>1000</td>\n",
       "    </tr>\n",
       "  </tbody>\n",
       "</table>\n",
       "</div>"
      ],
      "text/plain": [
       "   id    concert name  genre rate start time end time      date  \\\n",
       "0   1  davich concert  BALAD  ALL      20:00    21:00  20221231   \n",
       "1   1  davich concert  BALAD  ALL      20:00    21:00  20221231   \n",
       "\n",
       "   Artist table_id               Concert hall address Concert hall max  \n",
       "0                1  88-2 Bangi-dong, Songpa-gu, Seoul             1000  \n",
       "1                2  88-2 Bangi-dong, Songpa-gu, Seoul             1000  "
      ]
     },
     "execution_count": 61,
     "metadata": {},
     "output_type": "execute_result"
    }
   ],
   "source": [
    "Event_df"
   ]
  },
  {
   "cell_type": "code",
   "execution_count": 63,
   "id": "8d73b3d9",
   "metadata": {},
   "outputs": [],
   "source": [
    "Artist_EVENT_df = pd.read_sql_query(\"SELECT * FROM ArtistTable\",conn)"
   ]
  },
  {
   "cell_type": "code",
   "execution_count": 64,
   "id": "0141f69a",
   "metadata": {
    "scrolled": true
   },
   "outputs": [
    {
     "data": {
      "text/html": [
       "<div>\n",
       "<style scoped>\n",
       "    .dataframe tbody tr th:only-of-type {\n",
       "        vertical-align: middle;\n",
       "    }\n",
       "\n",
       "    .dataframe tbody tr th {\n",
       "        vertical-align: top;\n",
       "    }\n",
       "\n",
       "    .dataframe thead th {\n",
       "        text-align: right;\n",
       "    }\n",
       "</style>\n",
       "<table border=\"1\" class=\"dataframe\">\n",
       "  <thead>\n",
       "    <tr style=\"text-align: right;\">\n",
       "      <th></th>\n",
       "      <th>id</th>\n",
       "      <th>name</th>\n",
       "      <th>count</th>\n",
       "      <th>artist lists</th>\n",
       "      <th>Artist info_id</th>\n",
       "    </tr>\n",
       "  </thead>\n",
       "  <tbody>\n",
       "    <tr>\n",
       "      <th>0</th>\n",
       "      <td>1</td>\n",
       "      <td>davich</td>\n",
       "      <td>2</td>\n",
       "      <td>1,2</td>\n",
       "      <td>1</td>\n",
       "    </tr>\n",
       "    <tr>\n",
       "      <th>1</th>\n",
       "      <td>2</td>\n",
       "      <td>davich</td>\n",
       "      <td>2</td>\n",
       "      <td>1,2</td>\n",
       "      <td>2</td>\n",
       "    </tr>\n",
       "  </tbody>\n",
       "</table>\n",
       "</div>"
      ],
      "text/plain": [
       "   id    name count artist lists  Artist info_id\n",
       "0   1  davich     2          1,2               1\n",
       "1   2  davich     2          1,2               2"
      ]
     },
     "execution_count": 64,
     "metadata": {},
     "output_type": "execute_result"
    }
   ],
   "source": [
    "Artist_EVENT_df"
   ]
  },
  {
   "cell_type": "code",
   "execution_count": 65,
   "id": "292c2981",
   "metadata": {},
   "outputs": [],
   "source": [
    "Artist_info_df = pd.read_sql_query(\"SELECT * FROM Artistinfo\",conn)"
   ]
  },
  {
   "cell_type": "code",
   "execution_count": 66,
   "id": "3b809f72",
   "metadata": {
    "scrolled": true
   },
   "outputs": [
    {
     "data": {
      "text/html": [
       "<div>\n",
       "<style scoped>\n",
       "    .dataframe tbody tr th:only-of-type {\n",
       "        vertical-align: middle;\n",
       "    }\n",
       "\n",
       "    .dataframe tbody tr th {\n",
       "        vertical-align: top;\n",
       "    }\n",
       "\n",
       "    .dataframe thead th {\n",
       "        text-align: right;\n",
       "    }\n",
       "</style>\n",
       "<table border=\"1\" class=\"dataframe\">\n",
       "  <thead>\n",
       "    <tr style=\"text-align: right;\">\n",
       "      <th></th>\n",
       "      <th>id</th>\n",
       "      <th>name</th>\n",
       "      <th>sex</th>\n",
       "      <th>age</th>\n",
       "      <th>debut date</th>\n",
       "      <th>role</th>\n",
       "    </tr>\n",
       "  </thead>\n",
       "  <tbody>\n",
       "    <tr>\n",
       "      <th>0</th>\n",
       "      <td>1</td>\n",
       "      <td>LEE HAE RI</td>\n",
       "      <td>F</td>\n",
       "      <td>30</td>\n",
       "      <td>2008.11.03</td>\n",
       "      <td>Singer</td>\n",
       "    </tr>\n",
       "    <tr>\n",
       "      <th>1</th>\n",
       "      <td>2</td>\n",
       "      <td>KANG MIN KYUNG</td>\n",
       "      <td>F</td>\n",
       "      <td>30</td>\n",
       "      <td>2008.11.03</td>\n",
       "      <td>Singer</td>\n",
       "    </tr>\n",
       "  </tbody>\n",
       "</table>\n",
       "</div>"
      ],
      "text/plain": [
       "   id            name sex age  debut date    role\n",
       "0   1      LEE HAE RI   F  30  2008.11.03  Singer\n",
       "1   2  KANG MIN KYUNG   F  30  2008.11.03  Singer"
      ]
     },
     "execution_count": 66,
     "metadata": {},
     "output_type": "execute_result"
    }
   ],
   "source": [
    "Artist_info_df"
   ]
  },
  {
   "cell_type": "code",
   "execution_count": 67,
   "id": "90a0cf31",
   "metadata": {},
   "outputs": [],
   "source": [
    "Artist_song_df = pd.read_sql_query(\"SELECT * FROM ArtistSongTable\",conn)"
   ]
  },
  {
   "cell_type": "code",
   "execution_count": 68,
   "id": "be939710",
   "metadata": {
    "scrolled": false
   },
   "outputs": [
    {
     "data": {
      "text/html": [
       "<div>\n",
       "<style scoped>\n",
       "    .dataframe tbody tr th:only-of-type {\n",
       "        vertical-align: middle;\n",
       "    }\n",
       "\n",
       "    .dataframe tbody tr th {\n",
       "        vertical-align: top;\n",
       "    }\n",
       "\n",
       "    .dataframe thead th {\n",
       "        text-align: right;\n",
       "    }\n",
       "</style>\n",
       "<table border=\"1\" class=\"dataframe\">\n",
       "  <thead>\n",
       "    <tr style=\"text-align: right;\">\n",
       "      <th></th>\n",
       "      <th>Artist table_id</th>\n",
       "      <th>Song list</th>\n",
       "    </tr>\n",
       "  </thead>\n",
       "  <tbody>\n",
       "    <tr>\n",
       "      <th>0</th>\n",
       "      <td>1</td>\n",
       "      <td>Turtle, 8282</td>\n",
       "    </tr>\n",
       "    <tr>\n",
       "      <th>1</th>\n",
       "      <td>2</td>\n",
       "      <td>Turtle, 8282</td>\n",
       "    </tr>\n",
       "  </tbody>\n",
       "</table>\n",
       "</div>"
      ],
      "text/plain": [
       "   Artist table_id     Song list\n",
       "0                1  Turtle, 8282\n",
       "1                2  Turtle, 8282"
      ]
     },
     "execution_count": 68,
     "metadata": {},
     "output_type": "execute_result"
    }
   ],
   "source": [
    "Artist_song_df"
   ]
  }
 ],
 "metadata": {
  "kernelspec": {
   "display_name": "Python 3 (ipykernel)",
   "language": "python",
   "name": "python3"
  },
  "language_info": {
   "codemirror_mode": {
    "name": "ipython",
    "version": 3
   },
   "file_extension": ".py",
   "mimetype": "text/x-python",
   "name": "python",
   "nbconvert_exporter": "python",
   "pygments_lexer": "ipython3",
   "version": "3.8.7"
  }
 },
 "nbformat": 4,
 "nbformat_minor": 5
}
