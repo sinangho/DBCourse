{
  "nbformat": 4,
  "nbformat_minor": 0,
  "metadata": {
    "colab": {
      "provenance": [],
      "collapsed_sections": [],
      "authorship_tag": "ABX9TyNb8l7a5wkKgHDep4Aj00C0",
      "include_colab_link": true
    },
    "kernelspec": {
      "name": "python3",
      "display_name": "Python 3"
    },
    "language_info": {
      "name": "python"
    }
  },
  "cells": [
    {
      "cell_type": "markdown",
      "metadata": {
        "id": "view-in-github",
        "colab_type": "text"
      },
      "source": [
        "<a href=\"https://colab.research.google.com/github/wp132316/DBCourse/blob/main/week10_Lab_Session.ipynb\" target=\"_parent\"><img src=\"https://colab.research.google.com/assets/colab-badge.svg\" alt=\"Open In Colab\"/></a>"
      ]
    },
    {
      "cell_type": "code",
      "execution_count": null,
      "metadata": {
        "id": "Dk4y9Wvhmm6F"
      },
      "outputs": [],
      "source": [
        "from sqlalchemy import create_engine"
      ]
    },
    {
      "cell_type": "code",
      "source": [
        "conn = create_engine(\"sqlite:///../content/my_db.db\")"
      ],
      "metadata": {
        "id": "D_x0D3n0m96G"
      },
      "execution_count": null,
      "outputs": []
    },
    {
      "cell_type": "code",
      "source": [
        "from sqlalchemy.exc import SQLAlchemyError\n",
        "q = \"SELECT * FROM student WHERE mark BETWEEN 65 AND 75\"\n",
        "try:\n",
        "  r_set = conn.execute(q)\n",
        "  r_list = r_set.fetchall()\n",
        "\n",
        "  for row in r_list:\n",
        "    print(row)\n",
        "except SQLAlchemyError as e:\n",
        "   error = str(e.__dict__['orig'])\n",
        "   print(error)\n",
        "else:\n",
        "   print(\"Total Number of rows : \", len(r_list))"
      ],
      "metadata": {
        "colab": {
          "base_uri": "https://localhost:8080/"
        },
        "id": "evjU6PphnY_F",
        "outputId": "ac8e888a-e493-426f-caa7-10cc886abaeb"
      },
      "execution_count": null,
      "outputs": [
        {
          "output_type": "stream",
          "name": "stdout",
          "text": [
            "(1, 'John Deo', 'Four', 75, 'female')\n",
            "(18, 'Honny', 'Five', 75, 'male')\n",
            "(20, 'Jackly', 'Nine', 65, 'female')\n",
            "(21, 'Babby John', 'Four', 69, 'female')\n",
            "(34, 'Gain Toe', 'Seven', 69, 'male')\n",
            "Total Number of rows :  5\n"
          ]
        }
      ]
    },
    {
      "cell_type": "code",
      "source": [
        "from sqlalchemy.exc import SQLAlchemyError\n",
        "my_tuple=(65, 75)\n",
        "q=\"SELECT * FROM student WHERE mark BETWEEN ? AND ?\"\n",
        "try:\n",
        "  r_set = conn.execute(q,my_tuple)\n",
        "  r_list = r_set.fetchall()\n",
        "  for row in r_list:\n",
        "    print(row)\n",
        "except SQLAlchemyError as e:\n",
        "   error = str(e.__dict__['orig'])\n",
        "   print(error)\n",
        "else:\n",
        "   print(\"Total Number of rows : \", len(r_list))\n"
      ],
      "metadata": {
        "colab": {
          "base_uri": "https://localhost:8080/"
        },
        "id": "_ej94pXdnuSs",
        "outputId": "c54df7b6-8a57-41b9-d7e2-d644277c1bc4"
      },
      "execution_count": null,
      "outputs": [
        {
          "output_type": "stream",
          "name": "stdout",
          "text": [
            "(1, 'John Deo', 'Four', 75, 'female')\n",
            "(18, 'Honny', 'Five', 75, 'male')\n",
            "(20, 'Jackly', 'Nine', 65, 'female')\n",
            "(21, 'Babby John', 'Four', 69, 'female')\n",
            "(34, 'Gain Toe', 'Seven', 69, 'male')\n",
            "Total Number of rows :  5\n"
          ]
        }
      ]
    },
    {
      "cell_type": "code",
      "source": [
        "from sqlalchemy.exc import SQLAlchemyError\n",
        "my_tuple = (25, 90)\n",
        "q = \"SELECT * FROM student WHERE mark NOT BETWEEN ? AND ?\"\n",
        "try:\n",
        "  r_set = conn.execute(q,my_tuple)\n",
        "  r_list = r_set.fetchall()\n",
        "  for row in r_list:\n",
        "    print(row)\n",
        "except SQLAlchemyError as e:\n",
        "  error = str(e.__dict__['orig'])\n",
        "  print(error)\n",
        "else:\n",
        "  print(\"Total Number of row : \", len(r_list))"
      ],
      "metadata": {
        "colab": {
          "base_uri": "https://localhost:8080/"
        },
        "id": "V77LAYuaqfYK",
        "outputId": "ce0b041c-8630-4b6e-ca7f-307049028a1e"
      },
      "execution_count": null,
      "outputs": [
        {
          "output_type": "stream",
          "name": "stdout",
          "text": [
            "(12, 'Recky', 'Six', 94, 'female')\n",
            "(19, 'Tinny', 'Nine', 18, 'male')\n",
            "(33, 'Kenn Rein', 'Six', 96, 'female')\n",
            "Total Number of row :  3\n"
          ]
        }
      ]
    },
    {
      "cell_type": "code",
      "source": [
        "from sqlalchemy.exc import SQLAlchemyError\n",
        "q = \"SELECT * FROM student ORDER BY class,mark DESC\"\n",
        "try:\n",
        "  r_set = conn.execute(q)\n",
        "  r_list = r_set.fetchall()\n",
        "  for rows in r_list:\n",
        "    print(rows)\n",
        "except SQLAlchemyError as e:\n",
        "  error = str(e.__dict__['orig'])\n",
        "  print(error)\n",
        "else:\n",
        "  print(\"Total Number of row : \", len(r_list))"
      ],
      "metadata": {
        "colab": {
          "base_uri": "https://localhost:8080/"
        },
        "id": "MSRY7aSgtQBS",
        "outputId": "f13f3d2b-3c5f-40be-bda9-7dc63c5e3f37"
      },
      "execution_count": null,
      "outputs": [
        {
          "output_type": "stream",
          "name": "stdout",
          "text": [
            "(23, 'Herod', 'Eight', 79, 'male')\n",
            "(8, 'Asruid', 'Five', 85, 'male')\n",
            "(7, 'My John Rob', 'Five', 78, 'male')\n",
            "(18, 'Honny', 'Five', 75, 'male')\n",
            "(15, 'Tade Row', 'Four', 88, 'male')\n",
            "(16, 'Gimmy', 'Four', 88, 'male')\n",
            "(31, 'Marry Toeey', 'Four', 88, 'male')\n",
            "(1, 'John Deo', 'Four', 75, 'female')\n",
            "(21, 'Babby John', 'Four', 69, 'female')\n",
            "(4, 'Krish Star', 'Four', 60, 'female')\n",
            "(5, 'John Mike', 'Four', 60, 'female')\n",
            "(6, 'Alex John', 'Four', 55, 'male')\n",
            "(10, 'Big John', 'Four', 55, 'female')\n",
            "(20, 'Jackly', 'Nine', 65, 'female')\n",
            "(19, 'Tinny', 'Nine', 18, 'male')\n",
            "(32, 'Binn Rott', 'Seven', 90, 'female')\n",
            "(13, 'Kty', 'Seven', 88, 'female')\n",
            "(14, 'Bigy', 'Seven', 88, 'female')\n",
            "(25, 'Giff Tow', 'Seven', 88, 'male')\n",
            "(28, 'Rojj Base', 'Seven', 86, 'female')\n",
            "(26, 'Crelea', 'Seven', 79, 'male')\n",
            "(24, 'Tiddy Now', 'Seven', 78, 'male')\n",
            "(34, 'Gain Toe', 'Seven', 69, 'male')\n",
            "(22, 'Reggid', 'Seven', 55, 'female')\n",
            "(29, 'Tess Played', 'Seven', 55, 'male')\n",
            "(33, 'Kenn Rein', 'Six', 96, 'female')\n",
            "(12, 'Recky', 'Six', 94, 'female')\n",
            "(11, 'Ronald', 'Six', 89, 'female')\n",
            "(35, 'Rows Noump', 'Six', 88, 'female')\n",
            "(30, 'Reppy Red', 'Six', 79, 'female')\n",
            "(9, 'Tes Qry', 'Six', 78, 'male')\n",
            "(17, 'Tumyu', 'Six', 54, 'male')\n",
            "(2, 'Max Ruin', 'Three', 85, 'male')\n",
            "(27, 'Big Nose', 'Three', 81, 'female')\n",
            "(3, 'Arnold', 'Three', 55, 'male')\n",
            "Total Number of row :  35\n"
          ]
        }
      ]
    },
    {
      "cell_type": "code",
      "source": [
        "from sqlalchemy.exc import SQLAlchemyError\n",
        "q = \"SELECT * FROM student WHERE class='Five' ORDER BY mark DESC\"\n",
        "try:\n",
        "  r_set = conn.execute(q)\n",
        "  r_list = r_set.fetchall()\n",
        "  for rows in r_list:\n",
        "    print(rows)\n",
        "except SQLAlchemyError as e:\n",
        "  error = str(e.__dict__['orig'])\n",
        "  print(error)\n",
        "else:\n",
        "  print(\"Total Number of row : \", len(r_list))"
      ],
      "metadata": {
        "colab": {
          "base_uri": "https://localhost:8080/"
        },
        "id": "5PV3bDhUuqUS",
        "outputId": "df277791-6925-4312-cd1c-840d27ff2600"
      },
      "execution_count": null,
      "outputs": [
        {
          "output_type": "stream",
          "name": "stdout",
          "text": [
            "(8, 'Asruid', 'Five', 85, 'male')\n",
            "(7, 'My John Rob', 'Five', 78, 'male')\n",
            "(18, 'Honny', 'Five', 75, 'male')\n",
            "Total Number of row :  3\n"
          ]
        }
      ]
    },
    {
      "cell_type": "code",
      "source": [
        "from sqlalchemy.exc import SQLAlchemyError\n",
        "q = \"SELECT * FROM student WHERE class='Five' ORDER BY mark DESC LIMIT 1,1\"\n",
        "try:\n",
        "  r_set = conn.execute(q)\n",
        "  r_list = r_set.fetchall()\n",
        "  for rows in r_list:\n",
        "    print(rows)\n",
        "except SQLAlchemyError as e:\n",
        "  error = str(e.__dict__['orig'])\n",
        "  print(error)\n",
        "else:\n",
        "  print(\"Total Number of row : \", len(r_list))"
      ],
      "metadata": {
        "colab": {
          "base_uri": "https://localhost:8080/"
        },
        "id": "robbIaWcv7oC",
        "outputId": "4df99974-fe40-4489-fe8d-154fba34b1a1"
      },
      "execution_count": null,
      "outputs": [
        {
          "output_type": "stream",
          "name": "stdout",
          "text": [
            "(7, 'My John Rob', 'Five', 78, 'male')\n",
            "Total Number of row :  1\n"
          ]
        }
      ]
    },
    {
      "cell_type": "code",
      "source": [
        "import sqlite3"
      ],
      "metadata": {
        "id": "fz0XHrrryCG0"
      },
      "execution_count": null,
      "outputs": []
    },
    {
      "cell_type": "code",
      "source": [
        "from employee import Employee"
      ],
      "metadata": {
        "id": "jLMlNQfmyDjk"
      },
      "execution_count": null,
      "outputs": []
    },
    {
      "cell_type": "code",
      "source": [
        "conn = sqlite3.connect(':memory:')"
      ],
      "metadata": {
        "id": "Ne_Sso3QyHBy"
      },
      "execution_count": null,
      "outputs": []
    },
    {
      "cell_type": "code",
      "source": [
        "c = conn.cursor()"
      ],
      "metadata": {
        "id": "wVALErsiyWGA"
      },
      "execution_count": null,
      "outputs": []
    },
    {
      "cell_type": "code",
      "source": [
        "c.execute(\"\"\"CREATE TABLE employees (\n",
        "  first text,\n",
        "  last text,\n",
        "  pay integer\n",
        "  )\"\"\")"
      ],
      "metadata": {
        "colab": {
          "base_uri": "https://localhost:8080/"
        },
        "id": "66LH6l1DyYGw",
        "outputId": "74df780c-6879-444e-ab0f-aed835472d53"
      },
      "execution_count": null,
      "outputs": [
        {
          "output_type": "execute_result",
          "data": {
            "text/plain": [
              "<sqlite3.Cursor at 0x7fbffedee180>"
            ]
          },
          "metadata": {},
          "execution_count": 15
        }
      ]
    },
    {
      "cell_type": "code",
      "source": [
        "def insert_emp(emp):\n",
        "  with conn:\n",
        "    c.execute(\"INSERT INTO employees VALUES (:first, :last, :pay)\", {'first': emp.first, 'last': emp.last, 'pay': emp.pay})"
      ],
      "metadata": {
        "id": "YrwSHS2syjHk"
      },
      "execution_count": null,
      "outputs": []
    },
    {
      "cell_type": "code",
      "source": [
        "def get_emps_by_name(lastname):\n",
        "  c.execute(\"SELECT * FROM employees WHERE last=:last\", {'last': lastname})\n",
        "  return c.fetchall()"
      ],
      "metadata": {
        "id": "DNp0fuV_y-IM"
      },
      "execution_count": null,
      "outputs": []
    },
    {
      "cell_type": "code",
      "source": [
        "def update_pay(emp, pay):\n",
        "  with conn:\n",
        "    c.execute(\"\"\"UPDATE employees SET pay = :pay WHERE first = :first AND last = :last\"\"\", {'first': emp.first, 'last': emp.last, 'pay': pay})"
      ],
      "metadata": {
        "id": "LhFl1xxo0G2k"
      },
      "execution_count": null,
      "outputs": []
    },
    {
      "cell_type": "code",
      "source": [
        "def remove_emp(emp):\n",
        "  with conn:\n",
        "    c.execute(\"DELETE from employees WHERE first = :first AND last = :last\", {'first': emp.first, 'last': emp.last})"
      ],
      "metadata": {
        "id": "RUH_3gkyzNev"
      },
      "execution_count": null,
      "outputs": []
    },
    {
      "cell_type": "code",
      "source": [
        "emp_1 = Employee('John', \"Doe\", 80000)\n",
        "emp_2 = Employee('Jane', \"Doe\", 90000)"
      ],
      "metadata": {
        "id": "mTKxYSvEzinL"
      },
      "execution_count": null,
      "outputs": []
    },
    {
      "cell_type": "code",
      "source": [
        "insert_emp(emp_1)\n",
        "insert_emp(emp_2)"
      ],
      "metadata": {
        "id": "nwP5YFmUzrxu"
      },
      "execution_count": null,
      "outputs": []
    },
    {
      "cell_type": "code",
      "source": [
        "emps = get_emps_by_name(\"Doe\")\n",
        "print(emps)"
      ],
      "metadata": {
        "colab": {
          "base_uri": "https://localhost:8080/"
        },
        "id": "qM68VqbczwBd",
        "outputId": "dd29431d-a529-46c0-9f6c-831e0ae71cd5"
      },
      "execution_count": null,
      "outputs": [
        {
          "output_type": "stream",
          "name": "stdout",
          "text": [
            "[('John', 'Doe', 80000), ('Jane', 'Doe', 90000)]\n"
          ]
        }
      ]
    },
    {
      "cell_type": "code",
      "source": [
        "update_pay(emp_2, 95000)\n",
        "remove_emp(emp_1)"
      ],
      "metadata": {
        "id": "fw77QsbrzzVS"
      },
      "execution_count": null,
      "outputs": []
    },
    {
      "cell_type": "code",
      "source": [
        "emps = get_emps_by_name(\"Doe\")\n",
        "print(emps)"
      ],
      "metadata": {
        "colab": {
          "base_uri": "https://localhost:8080/"
        },
        "id": "4Rtd6WLG0qT3",
        "outputId": "a50f03ab-5aa2-4232-b003-97812cd130bc"
      },
      "execution_count": null,
      "outputs": [
        {
          "output_type": "stream",
          "name": "stdout",
          "text": [
            "[('Jane', 'Doe', 95000)]\n"
          ]
        }
      ]
    },
    {
      "cell_type": "code",
      "source": [
        "conn.close()"
      ],
      "metadata": {
        "id": "NPuRdnyY0uIX"
      },
      "execution_count": null,
      "outputs": []
    }
  ]
}